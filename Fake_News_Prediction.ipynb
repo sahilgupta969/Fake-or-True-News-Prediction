{
  "nbformat": 4,
  "nbformat_minor": 0,
  "metadata": {
    "colab": {
      "provenance": [],
      "authorship_tag": "ABX9TyM9HQBr2DgsFqwmndkAJTGw",
      "include_colab_link": true
    },
    "kernelspec": {
      "name": "python3",
      "display_name": "Python 3"
    },
    "language_info": {
      "name": "python"
    }
  },
  "cells": [
    {
      "cell_type": "markdown",
      "metadata": {
        "id": "view-in-github",
        "colab_type": "text"
      },
      "source": [
        "<a href=\"https://colab.research.google.com/github/sahilgupta969/Fake-or-True-News-Prediction/blob/master/Fake_News_Prediction.ipynb\" target=\"_parent\"><img src=\"https://colab.research.google.com/assets/colab-badge.svg\" alt=\"Open In Colab\"/></a>"
      ]
    },
    {
      "cell_type": "markdown",
      "source": [
        "# New Section"
      ],
      "metadata": {
        "id": "qRiypPjLCrWr"
      }
    },
    {
      "cell_type": "markdown",
      "source": [
        "# About the Dataset:\n",
        "      \n",
        "\n",
        "1. title:the title of a news article\n",
        "2. text:the text of the artical could be incomplete\n",
        "3. class:a class that marks whether the news article is real or fake\n",
        "\n",
        "\n",
        "\n",
        "\n",
        "\n",
        "        0.   Fake news\n",
        "        1.   Real news\n",
        "\n",
        "\n",
        "\n"
      ],
      "metadata": {
        "id": "waSf9s0r3Hfp"
      }
    },
    {
      "cell_type": "markdown",
      "source": [
        "Importing libraries\n",
        "\n"
      ],
      "metadata": {
        "id": "PRNnw42ZKE38"
      }
    },
    {
      "cell_type": "code",
      "source": [
        "import pandas as pd\n",
        "import numpy as np\n",
        "import seaborn as snb\n",
        "import matplotlib.pyplot as plt\n",
        "from sklearn.model_selection import train_test_split\n",
        "from sklearn.metrics import accuracy_score\n",
        "from sklearn.metrics import classification_report\n",
        "import re\n",
        "import string"
      ],
      "metadata": {
        "id": "favpYE7AB95y"
      },
      "execution_count": null,
      "outputs": []
    },
    {
      "cell_type": "markdown",
      "source": [
        "#importing Dataset\n",
        "\n"
      ],
      "metadata": {
        "id": "HP3WUnCILsN4"
      }
    },
    {
      "cell_type": "code",
      "source": [
        "data_fake = pd.read_csv('/content/Fake.csv', engine='python')\n",
        "data_true = pd.read_csv('/content/True.csv', engine='python')"
      ],
      "metadata": {
        "id": "7paKlDLVr45p"
      },
      "execution_count": null,
      "outputs": []
    },
    {
      "cell_type": "code",
      "source": [
        "data_fake.head()"
      ],
      "metadata": {
        "id": "vza25JH0OYRj"
      },
      "execution_count": null,
      "outputs": []
    },
    {
      "cell_type": "code",
      "source": [
        "data_true.head()"
      ],
      "metadata": {
        "id": "CtxpfOSoO1gX"
      },
      "execution_count": null,
      "outputs": []
    },
    {
      "cell_type": "code",
      "source": [
        "data_fake['class'] = 0\n",
        "data_true['class'] = 1"
      ],
      "metadata": {
        "id": "PGpMD60BO7nA"
      },
      "execution_count": null,
      "outputs": []
    },
    {
      "cell_type": "code",
      "source": [
        "data_fake.shape, data_true.shape"
      ],
      "metadata": {
        "id": "hrz5SX6APXyo"
      },
      "execution_count": null,
      "outputs": []
    },
    {
      "cell_type": "code",
      "source": [
        "data_fake_manual_testing = data_fake.tail(10)\n",
        "for i in range(23480, 23470, -1):\n",
        "  data_fake.drop([i], axis=0, inplace=True)\n",
        "\n",
        "data_true_manual_testing = data_true.tail(10)\n",
        "for i in range(21416, 21406, -1):\n",
        "  data_true.drop([i], axis=0, inplace=True)"
      ],
      "metadata": {
        "id": "kfgyBgj_Paii"
      },
      "execution_count": null,
      "outputs": []
    },
    {
      "cell_type": "code",
      "source": [
        "data_fake.shape,data_true.shape"
      ],
      "metadata": {
        "id": "ADgfkomhPixv"
      },
      "execution_count": null,
      "outputs": []
    },
    {
      "cell_type": "code",
      "source": [
        "data_fake_manual_testing['class'] = 0\n",
        "data_true_manual_testing['class'] = 1"
      ],
      "metadata": {
        "id": "tu11-plsQSAt"
      },
      "execution_count": null,
      "outputs": []
    },
    {
      "cell_type": "code",
      "source": [
        "data_fake_manual_testing.head(10)\n"
      ],
      "metadata": {
        "id": "fkuJdYIjQacj"
      },
      "execution_count": null,
      "outputs": []
    },
    {
      "cell_type": "code",
      "source": [
        "data_true_manual_testing.head(10)"
      ],
      "metadata": {
        "id": "Zx47LX63QfEp"
      },
      "execution_count": null,
      "outputs": []
    },
    {
      "cell_type": "code",
      "source": [
        "data_merge = pd.concat([data_fake, data_true], axis=0)\n",
        "data_merge.tail(10)"
      ],
      "metadata": {
        "id": "8jVXwLOxQkbT"
      },
      "execution_count": null,
      "outputs": []
    },
    {
      "cell_type": "code",
      "source": [
        "data_merge.columns"
      ],
      "metadata": {
        "id": "pNYQa2ImQp1O"
      },
      "execution_count": null,
      "outputs": []
    },
    {
      "cell_type": "code",
      "source": [
        "data = data_merge.drop(['title', 'subject', 'date'], axis=1)"
      ],
      "metadata": {
        "id": "dbNkRzQ2Q6GJ"
      },
      "execution_count": null,
      "outputs": []
    },
    {
      "cell_type": "code",
      "source": [
        "data.isnull().sum()"
      ],
      "metadata": {
        "id": "TQMFCzMCRCoI"
      },
      "execution_count": null,
      "outputs": []
    },
    {
      "cell_type": "code",
      "source": [
        "data = data.sample(frac=1)"
      ],
      "metadata": {
        "id": "z6DrTBL_RIk1"
      },
      "execution_count": null,
      "outputs": []
    },
    {
      "cell_type": "code",
      "source": [
        "data.head()"
      ],
      "metadata": {
        "id": "pmk5tvx2RMv8"
      },
      "execution_count": null,
      "outputs": []
    },
    {
      "cell_type": "code",
      "source": [
        "data.reset_index(inplace=True)\n",
        "data.drop(['index'], axis=1, inplace=True)"
      ],
      "metadata": {
        "id": "967MIJIcRO17"
      },
      "execution_count": null,
      "outputs": []
    },
    {
      "cell_type": "code",
      "source": [
        "data.columns"
      ],
      "metadata": {
        "id": "4jGRmqWfRfKv"
      },
      "execution_count": null,
      "outputs": []
    },
    {
      "cell_type": "code",
      "source": [
        "data.head()"
      ],
      "metadata": {
        "id": "o0YVdLnURi1M"
      },
      "execution_count": null,
      "outputs": []
    },
    {
      "cell_type": "code",
      "source": [
        "def wordopt(text):\n",
        "  text = text.lower()\n",
        "  text = re.sub('\\[.*?\\]','',text)\n",
        "  text = re.sub(\"\\\\W\", \" \",text)\n",
        "  text = re.sub('https?://\\S+WWW\\.\\S+','',text)\n",
        "  text = re.sub('<.*?>+','',text)\n",
        "  text = re.sub('[%s]'% re.escape(string.punctuation),'',text)\n",
        "  text = re.sub('\\n','',text)\n",
        "  text = re.sub('\\w*\\d\\w*','',text)\n",
        "  return text"
      ],
      "metadata": {
        "id": "snxqsYDjRp1b"
      },
      "execution_count": null,
      "outputs": []
    },
    {
      "cell_type": "code",
      "source": [
        "data['text'] = data['text'].apply(wordopt)"
      ],
      "metadata": {
        "id": "Ob_6HiamTmBm"
      },
      "execution_count": null,
      "outputs": []
    },
    {
      "cell_type": "code",
      "source": [
        "x = data['text']\n",
        "y = data['class']"
      ],
      "metadata": {
        "id": "QFUlYXhITxAn"
      },
      "execution_count": null,
      "outputs": []
    },
    {
      "cell_type": "code",
      "source": [
        "x_train,x_test,y_train,y_test = train_test_split(x,y,test_size=0.25)"
      ],
      "metadata": {
        "id": "KBxxf4RwT7Od"
      },
      "execution_count": null,
      "outputs": []
    },
    {
      "cell_type": "code",
      "source": [
        "from sklearn.feature_extraction.text import TfidfVectorizer\n",
        "\n",
        "vectorization = TfidfVectorizer()\n",
        "xv_train = vectorization.fit_transform(x_train)\n",
        "xv_test = vectorization.transform(x_test)"
      ],
      "metadata": {
        "id": "oIW0Hn1gUMYj"
      },
      "execution_count": null,
      "outputs": []
    },
    {
      "cell_type": "markdown",
      "source": [
        "Logistic Regression"
      ],
      "metadata": {
        "id": "Z80Y_iXOVlGg"
      }
    },
    {
      "cell_type": "code",
      "source": [
        "from sklearn.linear_model import LogisticRegression\n",
        "\n",
        "LR = LogisticRegression()\n",
        "LR.fit(xv_train, y_train)"
      ],
      "metadata": {
        "id": "uveFABRrUr2E"
      },
      "execution_count": null,
      "outputs": []
    },
    {
      "cell_type": "code",
      "source": [
        "pred_lr = LR.predict(xv_test)"
      ],
      "metadata": {
        "id": "BqDfd-uuVM7c"
      },
      "execution_count": null,
      "outputs": []
    },
    {
      "cell_type": "code",
      "source": [
        "LR.score(xv_test, y_test)"
      ],
      "metadata": {
        "id": "Buc_O3VEVU28"
      },
      "execution_count": null,
      "outputs": []
    },
    {
      "cell_type": "code",
      "source": [
        "print(classification_report(y_test, pred_lr))"
      ],
      "metadata": {
        "id": "loDvacuOVX1U"
      },
      "execution_count": null,
      "outputs": []
    },
    {
      "cell_type": "markdown",
      "source": [
        "Decision Tree"
      ],
      "metadata": {
        "id": "ijITAyWvVpLk"
      }
    },
    {
      "cell_type": "code",
      "source": [
        "from sklearn.tree import DecisionTreeClassifier\n",
        "\n",
        "DT = DecisionTreeClassifier()\n",
        "DT.fit(xv_train, y_train)"
      ],
      "metadata": {
        "id": "u6zSGAWGVc82"
      },
      "execution_count": null,
      "outputs": []
    },
    {
      "cell_type": "code",
      "source": [
        "pred_dr = DT.predict(xv_test)"
      ],
      "metadata": {
        "id": "8BfkGPFAVt4Z"
      },
      "execution_count": null,
      "outputs": []
    },
    {
      "cell_type": "code",
      "source": [
        "DT.score(xv_test, y_test)"
      ],
      "metadata": {
        "id": "wIOyLb4oV39u"
      },
      "execution_count": null,
      "outputs": []
    },
    {
      "cell_type": "code",
      "source": [
        "print(classification_report(y_test, pred_dr))"
      ],
      "metadata": {
        "id": "SUFHggjbWABt"
      },
      "execution_count": null,
      "outputs": []
    },
    {
      "cell_type": "markdown",
      "source": [
        "Gradient Boost"
      ],
      "metadata": {
        "id": "er0a_mLMWSHc"
      }
    },
    {
      "cell_type": "code",
      "source": [
        "from sklearn.ensemble import GradientBoostingClassifier\n",
        "\n",
        "GB = GradientBoostingClassifier(random_state=0)\n",
        "GB.fit(xv_train, y_train)"
      ],
      "metadata": {
        "id": "gpdIeTNDWEv1"
      },
      "execution_count": null,
      "outputs": []
    },
    {
      "cell_type": "code",
      "source": [
        "pred_gb = GB.predict(xv_test)"
      ],
      "metadata": {
        "id": "OPmtDGYNWcih"
      },
      "execution_count": null,
      "outputs": []
    },
    {
      "cell_type": "code",
      "source": [
        "GB.score(xv_test, y_test)"
      ],
      "metadata": {
        "id": "exvrA4j-Wk2X"
      },
      "execution_count": null,
      "outputs": []
    },
    {
      "cell_type": "code",
      "source": [
        "print(classification_report(y_test, pred_dr))"
      ],
      "metadata": {
        "id": "_3P25J91WoaA"
      },
      "execution_count": null,
      "outputs": []
    },
    {
      "cell_type": "markdown",
      "source": [
        "Random Forest"
      ],
      "metadata": {
        "id": "DjC8Bg39YeaU"
      }
    },
    {
      "cell_type": "code",
      "source": [
        "from sklearn.ensemble import RandomForestClassifier\n",
        "\n",
        "RF = RandomForestClassifier(random_state=0)\n",
        "RF.fit(xv_train, y_train)"
      ],
      "metadata": {
        "id": "FVmNmKOOWvLE"
      },
      "execution_count": null,
      "outputs": []
    },
    {
      "cell_type": "code",
      "source": [
        "pred_rf = RF.predict(xv_test)"
      ],
      "metadata": {
        "id": "rY4IQ4X0Yivd"
      },
      "execution_count": null,
      "outputs": []
    },
    {
      "cell_type": "code",
      "source": [
        "RF.score(xv_test, y_test)"
      ],
      "metadata": {
        "id": "asO0SWCDYnal"
      },
      "execution_count": null,
      "outputs": []
    },
    {
      "cell_type": "code",
      "source": [
        "print(classification_report(y_test,pred_rf))"
      ],
      "metadata": {
        "id": "bqecCEvcYqNd"
      },
      "execution_count": null,
      "outputs": []
    },
    {
      "cell_type": "code",
      "source": [
        "def output_lable(n):\n",
        "  if n == 0:\n",
        "    return \"Fake News\"\n",
        "  elif n == 1:\n",
        "    return \"True News\"\n",
        "\n",
        "def manual_testing(news):\n",
        "  testing_news = {\"text\":[news]}\n",
        "  new_def_test = pd.DataFrame(testing_news)\n",
        "  new_def_test[\"text\"] = new_def_test[\"text\"].apply(wordopt)\n",
        "  new_x_test = new_def_test[\"text\"]\n",
        "  new_xv_test = vectorization.transform(new_x_test)\n",
        "  pred_LR = LR.predict(new_xv_test)\n",
        "  pred_DT = DT.predict(new_xv_test)\n",
        "  pred_GB = GB.predict(new_xv_test)\n",
        "  pred_RF = RF.predict(new_xv_test)\n",
        "  return print(\"\\n\\nLR Prediction: {} \\nDT Prediction: {} \\nGB Prediction: {} \\nRF Prediction: {}\".format(output_lable(pred_LR[0]),\n",
        "                                                                                                              output_lable(pred_DT[0]),\n",
        "                                                                                                              output_lable(pred_GB[0]),\n",
        "                                                                                                              output_lable(pred_RF[0])))"
      ],
      "metadata": {
        "id": "oTx36RzCY1JS"
      },
      "execution_count": null,
      "outputs": []
    },
    {
      "cell_type": "code",
      "source": [
        "news = str(input())\n",
        "manual_testing(news)"
      ],
      "metadata": {
        "id": "1GyxS-jHZQlJ"
      },
      "execution_count": null,
      "outputs": []
    },
    {
      "cell_type": "code",
      "source": [],
      "metadata": {
        "id": "d7x__S7PZbpA"
      },
      "execution_count": null,
      "outputs": []
    }
  ]
}